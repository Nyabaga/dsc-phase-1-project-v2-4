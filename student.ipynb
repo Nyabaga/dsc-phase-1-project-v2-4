{
 "cells": [
  {
   "cell_type": "markdown",
   "metadata": {},
   "source": [
    "## Final Project Submission\n",
    "\n",
    "Please fill out:\n",
    "* Student name: Abigael Nyatich Nyabaga\n",
    "* Student pace: full time\n",
    "* Scheduled project review date/time: N/A\n",
    "* Instructor name: Asha Deen , Lucille Kaleha\n",
    "* Blog post URL:N/A\n"
   ]
  },
  {
   "cell_type": "markdown",
   "metadata": {},
   "source": [
    "## Introduction\n",
    "\n",
    "Project  overview: \n",
    "\n",
    "Breaking into the entertainment industry can be a risky investment for Microsoft given the competition from already existing companies such as Netflix, Movie box, Rotten tomatoes, Box office and many others.Undeterred by this threat, Microsoft wants to join in the fun.To make this new venture a success,we will carry out an extensive analysis on Box Office to be able to come up with recommendations for Microsoft as they venture into the new film industry.\n",
    "\n",
    "This project entails acquiring a thorough comprehension of both the dataset and the business objectives.This is achieved by obtaining and scrutinizing pertinent data while delineating the business requirements and expected outcomes. By undertaking this analysis, the researcher lays the groundwork for the project and establishes a coherent trajectory moving forward.\n",
    "\n",
    "## Data sources and Data understanding\n",
    "\n",
    "To work on this project, data is acquired from different movie databases highlighted below which are stored in a folder called zippedata. They include:\n",
    "\n",
    "Box Office MojoLinks to an external site,                                                                     Rotten TomatoesLinks to an external site,                                                                 TheMovieDBLinks to an external site,                                                                            The NumbersLinks to an external site.\n",
    "\n"
   ]
  },
  {
   "cell_type": "code",
   "execution_count": null,
   "metadata": {},
   "outputs": [],
   "source": [
    "# Your code here - remember to use markdown cells for comments as well!\n",
    "import pandas as pd \n",
    "import numpy as np \n",
    "import sqlite3 \n",
    "import seaborn as sns \n",
    "import matplotlib.pyplot as plt \n",
    "%matplotlib inline"
   ]
  }
 ],
 "metadata": {
  "kernelspec": {
   "display_name": "Python 3",
   "language": "python",
   "name": "python3"
  },
  "language_info": {
   "codemirror_mode": {
    "name": "ipython",
    "version": 3
   },
   "file_extension": ".py",
   "mimetype": "text/x-python",
   "name": "python",
   "nbconvert_exporter": "python",
   "pygments_lexer": "ipython3",
   "version": "3.11.5"
  }
 },
 "nbformat": 4,
 "nbformat_minor": 2
}
